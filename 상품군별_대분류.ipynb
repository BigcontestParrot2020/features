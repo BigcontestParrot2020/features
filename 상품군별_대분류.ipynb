{
 "cells": [
  {
   "cell_type": "markdown",
   "metadata": {},
   "source": [
    "['의류', '속옷', '주방', '농수축', '이미용', '가전', '생활용품', '건강기능', '잡화', '가구',\n",
    "       '침구']"
   ]
  },
  {
   "cell_type": "markdown",
   "metadata": {},
   "source": [
    "✓ 모든 코드는 contain 쓰는 생각하고 하긴했어요!\n",
    "그래서 치마레깅스, 레깅스 둘 중 뭘 쓸까 생각했을 때, 레깅스를 쓰기로 했습니다! 교집합 잡아내고자!"
   ]
  },
  {
   "cell_type": "markdown",
   "metadata": {},
   "source": [
    "**의류 / 속옷 / 농수축 / 생활용품 / 건강기능 / 가구**"
   ]
  },
  {
   "cell_type": "markdown",
   "metadata": {},
   "source": [
    "## 가전"
   ]
  },
  {
   "cell_type": "code",
   "execution_count": 1,
   "metadata": {},
   "outputs": [],
   "source": [
    "#서비스 아닌 서비스(?)\n",
    "elec = [\n",
    "    '청소기', '의류관리기', '에어컨',\n",
    "    '미니건조기','무선청소기','노트북',\n",
    "    '냉장고','김치냉장고','공기청정기',\n",
    "    '건조기'\n",
    "]"
   ]
  },
  {
   "cell_type": "markdown",
   "metadata": {},
   "source": [
    "네이버\n",
    "니트/스웨터\n",
    "카디건\n",
    "티셔츠\n",
    "원피츠\n",
    "셔츠/블라우스/남방\n",
    "점퍼\n",
    "재킷\n",
    "코트\n",
    "청바지\n",
    "스커트\n",
    "바지\n",
    "레깅스\n",
    "조끼\n",
    "바지\n",
    "정장\n",
    "트레이닝복"
   ]
  },
  {
   "cell_type": "markdown",
   "metadata": {},
   "source": [
    "## 의류"
   ]
  },
  {
   "cell_type": "markdown",
   "metadata": {},
   "source": [
    "* 아예 세트 더미 변수를 주는게 좋을 것 같아요. \n",
    "* 위부터 아우터 / 패딩 / 상의 / 하의 / 트레이닝 / 정장 / 기타"
   ]
  },
  {
   "cell_type": "code",
   "execution_count": null,
   "metadata": {},
   "outputs": [],
   "source": [
    "# 전처리한 코드는 이정도\n",
    "# clo.상품명 = clo.상품명.str.replace('+', ' + ')\n",
    "# clo.상품명 = clo.상품명.str.replace('트렌치 코트', '트렌치코트')\n",
    "# clo.상품명 = clo.상품명.str.replace('폴로셔츠', '폴로 셔츠')\n",
    "# clo.상품명 = clo.상품명.str.replace('재킷', '자켓')\n",
    "# clo.상품명 = clo.상품명.str.replace('수트 + 베스트', '정장')\n",
    "# clo.상품명 = clo.상품명.str.replace('후드롱구스다운 코트', '후드롱구스다운')\n",
    "\n",
    "cloth = [\n",
    "    \n",
    "    '코트','자켓','트렌치코트'\n",
    "    ,'점퍼','윈드브레이커', '로브',\n",
    "    \n",
    "    '구스다운','덕다운','롱패딩'\n",
    "    \n",
    "    '니트', '스웨터','베스트','맨투맨',\n",
    "    '티셔츠','블라우스','셔츠','원피스',\n",
    "    \n",
    "    '팬츠', '데님',\n",
    "    \n",
    "    '트랙수트','트레이닝', '기능성','메쉬','액티비티',\n",
    "    \n",
    "    '정장','수트',\n",
    "    \n",
    "    '풀코디'\n",
    "]\n"
   ]
  },
  {
   "cell_type": "markdown",
   "metadata": {},
   "source": [
    "## 속옷"
   ]
  },
  {
   "cell_type": "code",
   "execution_count": null,
   "metadata": {},
   "outputs": [],
   "source": [
    "# 속옷은 위아래 구분보다는 남성, 여성만 나누는거에 초점을 두었습니다.!\n",
    "# 팬티...는 워낙 중성적이라 따로 안넣었어요! 브랜드로 가려질 것 같아서 !\n",
    "# 그래도 혹시 모르니 \n",
    "# 팬티밖에 안들어가 있는데 여성 속옷같은 이름 특성 \n",
    "# ['하이웨스트','쉐이핑','보정'] <- 유의점.. 같은 상품명에 특성들이 두개 들어갈 수 있어서 개인적으로는 안넣는게..!\n",
    "\n",
    "under = {\n",
    "    w : ['브라', '레깅스','란쥬','레이스',\n",
    "        '브라탑','원피스','슬리머'],\n",
    "    m : ['드로즈','트렁크','런닝','머슬','언더셔츠'],\n",
    "    '내복' : ['내의','이지웨어']\n",
    "   }"
   ]
  },
  {
   "cell_type": "markdown",
   "metadata": {},
   "source": [
    "## 농수축"
   ]
  },
  {
   "cell_type": "code",
   "execution_count": null,
   "metadata": {},
   "outputs": [],
   "source": [
    "food_nong = [\n",
    "    '쌀','벌꿀','메주','한라봉','옥수수',\n",
    "    '시래기','오렌지','매실','감말랭이','고춧가루','두부',\n",
    "    '사과','샤인머스켓','배즙','고구마','머루원액'   \n",
    "]\n",
    "\n",
    "food_su = [\n",
    "    '오징어','꼬막','황태','고등어','꽃게',\n",
    "    '대구','홍어','새우','옥돔','문어','쥐포',\n",
    "    '전복','매생이','가자미','장어','병어','갈치',\n",
    "    '낙지','수산물','조기','과메기','골뱅이','참굴',\n",
    "    '랍스터',\n",
    "]\n",
    "\n",
    "food_chuk =[\n",
    "    '갈비','곱창','돼지','한우','치마살','소한마리찜',\n",
    "    '오리로스','우삼겹','치킨','닭발'\n",
    "]\n",
    "\n",
    "food_others = [\n",
    "    '호빵','다시팩','곡물그대로','재첩국','국밥',\n",
    "    '장조림','부각','모시떡','곤드레나물밥','선식',\n",
    "    '철판','곰탕','삼계탕','도가니탕','콩국수',\n",
    "    '강정바','두유','젓갈','맛밤',\n",
    "]\n",
    "\n",
    "# 고민 : 김치를 어디에 넣을까"
   ]
  },
  {
   "cell_type": "markdown",
   "metadata": {},
   "source": [
    "## 생활용품"
   ]
  },
  {
   "cell_type": "code",
   "execution_count": null,
   "metadata": {},
   "outputs": [],
   "source": []
  },
  {
   "cell_type": "markdown",
   "metadata": {},
   "source": [
    "## 건강기능"
   ]
  },
  {
   "cell_type": "code",
   "execution_count": null,
   "metadata": {},
   "outputs": [],
   "source": [
    "[\n",
    "    '루테인','전립쎈프라임','오메가3','생유산균',\n",
    "    '레모나','프리바이오틱스',\n",
    "]\n",
    "\n",
    "[\n",
    "    '두유','홍삼진','생식','석류','히비스커스',\n",
    "    '팥물','밀싹','초록입홍합 환','구미','진액'\n",
    "]"
   ]
  },
  {
   "cell_type": "markdown",
   "metadata": {},
   "source": [
    "# 가구"
   ]
  },
  {
   "cell_type": "code",
   "execution_count": null,
   "metadata": {},
   "outputs": [],
   "source": []
  }
 ],
 "metadata": {
  "kernelspec": {
   "display_name": "Python 3",
   "language": "python",
   "name": "python3"
  },
  "language_info": {
   "codemirror_mode": {
    "name": "ipython",
    "version": 3
   },
   "file_extension": ".py",
   "mimetype": "text/x-python",
   "name": "python",
   "nbconvert_exporter": "python",
   "pygments_lexer": "ipython3",
   "version": "3.8.3"
  }
 },
 "nbformat": 4,
 "nbformat_minor": 4
}
